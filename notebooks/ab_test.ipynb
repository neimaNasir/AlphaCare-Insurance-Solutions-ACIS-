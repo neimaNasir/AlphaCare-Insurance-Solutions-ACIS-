{
 "cells": [
  {
   "cell_type": "code",
   "execution_count": 1,
   "metadata": {},
   "outputs": [],
   "source": [
    "import sys\n",
    "import os\n",
    "import pandas as pd\n",
    "from IPython.display import display"
   ]
  },
  {
   "cell_type": "code",
   "execution_count": 2,
   "metadata": {},
   "outputs": [],
   "source": [
    "import sys\n",
    "\n",
    "sys.path.append('../scripts')\n",
    "from risk_analyzing import *"
   ]
  },
  {
   "cell_type": "code",
   "execution_count": 3,
   "metadata": {},
   "outputs": [
    {
     "name": "stderr",
     "output_type": "stream",
     "text": [
      "C:\\Users\\neimn\\AppData\\Local\\Temp\\ipykernel_13592\\2247413962.py:2: DtypeWarning: Columns (32,37) have mixed types. Specify dtype option on import or set low_memory=False.\n",
      "  df = pd.read_csv('../data/MachineLearningRating_v3.csv')\n"
     ]
    }
   ],
   "source": [
    "# Load the CSV file\n",
    "df = pd.read_csv('../data/MachineLearningRating_v3.csv')"
   ]
  },
  {
   "cell_type": "code",
   "execution_count": 4,
   "metadata": {},
   "outputs": [
    {
     "data": {
      "text/plain": [
       "Index(['UnderwrittenCoverID', 'PolicyID', 'TransactionMonth',\n",
       "       'IsVATRegistered', 'Citizenship', 'LegalType', 'Title', 'Language',\n",
       "       'Bank', 'AccountType', 'MaritalStatus', 'Gender', 'Country', 'Province',\n",
       "       'PostalCode', 'MainCrestaZone', 'SubCrestaZone', 'ItemType', 'mmcode',\n",
       "       'VehicleType', 'RegistrationYear', 'make', 'Model', 'Cylinders',\n",
       "       'cubiccapacity', 'kilowatts', 'bodytype', 'NumberOfDoors',\n",
       "       'VehicleIntroDate', 'CustomValueEstimate', 'AlarmImmobiliser',\n",
       "       'TrackingDevice', 'CapitalOutstanding', 'NewVehicle', 'WrittenOff',\n",
       "       'Rebuilt', 'Converted', 'CrossBorder', 'NumberOfVehiclesInFleet',\n",
       "       'SumInsured', 'TermFrequency', 'CalculatedPremiumPerTerm',\n",
       "       'ExcessSelected', 'CoverCategory', 'CoverType', 'CoverGroup', 'Section',\n",
       "       'Product', 'StatutoryClass', 'StatutoryRiskType', 'TotalPremium',\n",
       "       'TotalClaims'],\n",
       "      dtype='object')"
      ]
     },
     "execution_count": 4,
     "metadata": {},
     "output_type": "execute_result"
    }
   ],
   "source": [
    "df.columns"
   ]
  },
  {
   "cell_type": "markdown",
   "metadata": {},
   "source": [
    "**Test 1**"
   ]
  },
  {
   "cell_type": "markdown",
   "metadata": {},
   "source": [
    "**Null Hypothesis: There are no risk differences across provinces**"
   ]
  },
  {
   "cell_type": "code",
   "execution_count": 5,
   "metadata": {},
   "outputs": [],
   "source": [
    "prepared_data = prepare_data(df)"
   ]
  },
  {
   "cell_type": "code",
   "execution_count": 6,
   "metadata": {},
   "outputs": [],
   "source": [
    "df_prepared_data = pd.DataFrame(prepared_data)"
   ]
  },
  {
   "cell_type": "code",
   "execution_count": 7,
   "metadata": {},
   "outputs": [
    {
     "data": {
      "text/html": [
       "<div>\n",
       "<style scoped>\n",
       "    .dataframe tbody tr th:only-of-type {\n",
       "        vertical-align: middle;\n",
       "    }\n",
       "\n",
       "    .dataframe tbody tr th {\n",
       "        vertical-align: top;\n",
       "    }\n",
       "\n",
       "    .dataframe thead th {\n",
       "        text-align: right;\n",
       "    }\n",
       "</style>\n",
       "<table border=\"1\" class=\"dataframe\">\n",
       "  <thead>\n",
       "    <tr style=\"text-align: right;\">\n",
       "      <th></th>\n",
       "      <th>TotalClaims</th>\n",
       "    </tr>\n",
       "    <tr>\n",
       "      <th>Province</th>\n",
       "      <th></th>\n",
       "    </tr>\n",
       "  </thead>\n",
       "  <tbody>\n",
       "    <tr>\n",
       "      <th>Eastern Cape</th>\n",
       "      <td>1.356427e+06</td>\n",
       "    </tr>\n",
       "    <tr>\n",
       "      <th>Free State</th>\n",
       "      <td>3.549223e+05</td>\n",
       "    </tr>\n",
       "    <tr>\n",
       "      <th>Gauteng</th>\n",
       "      <td>2.939415e+07</td>\n",
       "    </tr>\n",
       "    <tr>\n",
       "      <th>KwaZulu-Natal</th>\n",
       "      <td>1.430138e+07</td>\n",
       "    </tr>\n",
       "    <tr>\n",
       "      <th>Limpopo</th>\n",
       "      <td>1.016477e+06</td>\n",
       "    </tr>\n",
       "    <tr>\n",
       "      <th>Mpumalanga</th>\n",
       "      <td>2.044675e+06</td>\n",
       "    </tr>\n",
       "    <tr>\n",
       "      <th>North West</th>\n",
       "      <td>5.920250e+06</td>\n",
       "    </tr>\n",
       "    <tr>\n",
       "      <th>Northern Cape</th>\n",
       "      <td>8.949051e+04</td>\n",
       "    </tr>\n",
       "    <tr>\n",
       "      <th>Western Cape</th>\n",
       "      <td>1.038977e+07</td>\n",
       "    </tr>\n",
       "  </tbody>\n",
       "</table>\n",
       "</div>"
      ],
      "text/plain": [
       "                TotalClaims\n",
       "Province                   \n",
       "Eastern Cape   1.356427e+06\n",
       "Free State     3.549223e+05\n",
       "Gauteng        2.939415e+07\n",
       "KwaZulu-Natal  1.430138e+07\n",
       "Limpopo        1.016477e+06\n",
       "Mpumalanga     2.044675e+06\n",
       "North West     5.920250e+06\n",
       "Northern Cape  8.949051e+04\n",
       "Western Cape   1.038977e+07"
      ]
     },
     "metadata": {},
     "output_type": "display_data"
    }
   ],
   "source": [
    "#Display the prepared data\n",
    "display(df_prepared_data)"
   ]
  },
  {
   "cell_type": "markdown",
   "metadata": {},
   "source": [
    "**Perform chi-square test on total claims across provinces**"
   ]
  },
  {
   "cell_type": "code",
   "execution_count": 8,
   "metadata": {},
   "outputs": [
    {
     "name": "stdout",
     "output_type": "stream",
     "text": [
      "Null Hypothesis: There are no risk differences across provinces.\n",
      "Chi-Square: 0.0\n",
      "P-value: 0\n",
      "Reject the null hypothesis. There are risk differences across provinces.\n"
     ]
    }
   ],
   "source": [
    "perform_hypothesis_test(df_prepared_data)"
   ]
  },
  {
   "cell_type": "markdown",
   "metadata": {},
   "source": [
    "**Test 2**"
   ]
  },
  {
   "cell_type": "markdown",
   "metadata": {},
   "source": [
    "**Null Hypothesis: There are no risk differences between zipcodes**"
   ]
  },
  {
   "cell_type": "code",
   "execution_count": 9,
   "metadata": {},
   "outputs": [],
   "source": [
    "#Prepate and group the data\n",
    "zip_code_column = 'PostalCode'\n",
    "group_column = 'TotalClaims'\n",
    "group_a_label = 7750\n",
    "group_b_label = 8000"
   ]
  },
  {
   "cell_type": "code",
   "execution_count": 10,
   "metadata": {},
   "outputs": [],
   "source": [
    "group_A, group_B = prepare_group_data(df, zip_code_column, group_column, group_a_label, group_b_label)"
   ]
  },
  {
   "cell_type": "code",
   "execution_count": 11,
   "metadata": {},
   "outputs": [
    {
     "data": {
      "text/plain": [
       "5002      0.0\n",
       "5004      0.0\n",
       "5005      0.0\n",
       "5006      0.0\n",
       "5007      0.0\n",
       "         ... \n",
       "996970    0.0\n",
       "996971    0.0\n",
       "996972    0.0\n",
       "996973    0.0\n",
       "996974    0.0\n",
       "Name: TotalClaims, Length: 9408, dtype: float64"
      ]
     },
     "metadata": {},
     "output_type": "display_data"
    }
   ],
   "source": [
    "display(group_A)"
   ]
  },
  {
   "cell_type": "code",
   "execution_count": 12,
   "metadata": {},
   "outputs": [
    {
     "data": {
      "text/plain": [
       "8687      0.0\n",
       "49405     0.0\n",
       "70896     0.0\n",
       "70897     0.0\n",
       "70898     0.0\n",
       "         ... \n",
       "989595    0.0\n",
       "989597    0.0\n",
       "989598    0.0\n",
       "989599    0.0\n",
       "989601    0.0\n",
       "Name: TotalClaims, Length: 11794, dtype: float64"
      ]
     },
     "metadata": {},
     "output_type": "display_data"
    }
   ],
   "source": [
    "display(group_B)"
   ]
  },
  {
   "cell_type": "markdown",
   "metadata": {},
   "source": [
    "**Perform test**"
   ]
  },
  {
   "cell_type": "code",
   "execution_count": 13,
   "metadata": {},
   "outputs": [
    {
     "name": "stdout",
     "output_type": "stream",
     "text": [
      "Null Hypothesis: There are no risk differences between zip codes.\n",
      "A/B Groups:\n",
      "Group A - Mean: 39.0206579133846 Standard Deviation: 1770.0128643315438\n",
      "Group B - Mean: 145.663204067486 Standard Deviation: 4410.097025583654\n",
      "T-Statistic: -2.207899416414003\n",
      "P-value: 0.027261951176794467\n",
      "Reject the null hypothesis. There are risk differences between zip codes.\n"
     ]
    }
   ],
   "source": [
    "perform_ab_test(group_A, group_B)"
   ]
  }
 ],
 "metadata": {
  "kernelspec": {
   "display_name": "Python 3",
   "language": "python",
   "name": "python3"
  },
  "language_info": {
   "codemirror_mode": {
    "name": "ipython",
    "version": 3
   },
   "file_extension": ".py",
   "mimetype": "text/x-python",
   "name": "python",
   "nbconvert_exporter": "python",
   "pygments_lexer": "ipython3",
   "version": "3.11.9"
  }
 },
 "nbformat": 4,
 "nbformat_minor": 2
}
